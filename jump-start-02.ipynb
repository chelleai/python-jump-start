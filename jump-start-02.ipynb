{
 "cells": [
  {
   "cell_type": "code",
   "execution_count": null,
   "metadata": {},
   "outputs": [],
   "source": [
    "!pip install gensim scikit-learn --quiet"
   ]
  },
  {
   "cell_type": "code",
   "execution_count": null,
   "metadata": {},
   "outputs": [],
   "source": [
    "import pandas as pd\n",
    "\n",
    "art_facts_df = pd.read_csv(\"data/art-facts.csv\", sep=\"|\", header=None, names=[\"fact\"])\n",
    "art_facts_df.head()"
   ]
  },
  {
   "cell_type": "code",
   "execution_count": null,
   "metadata": {},
   "outputs": [],
   "source": [
    "import pandas as pd\n",
    "from gensim.utils import simple_preprocess\n",
    "from gensim.parsing.preprocessing import STOPWORDS\n",
    "\n",
    "def preprocess(text):\n",
    "    return [word for word in simple_preprocess(text) if word not in STOPWORDS]\n",
    "\n",
    "art_facts_df[\"preprocessed\"] = art_facts_df['fact'].apply(preprocess)\n"
   ]
  },
  {
   "cell_type": "code",
   "execution_count": null,
   "metadata": {},
   "outputs": [],
   "source": [
    "art_facts_df.head()"
   ]
  },
  {
   "cell_type": "code",
   "execution_count": null,
   "metadata": {},
   "outputs": [],
   "source": [
    "from gensim import corpora\n",
    "\n",
    "dictionary = corpora.Dictionary(art_facts_df.preprocessed.values)\n",
    "art_facts_df[\"corpus\"] = [dictionary.doc2bow(doc) for doc in art_facts_df.preprocessed.values]\n"
   ]
  },
  {
   "cell_type": "code",
   "execution_count": null,
   "metadata": {},
   "outputs": [],
   "source": [
    "from gensim.models import LdaModel\n",
    "\n",
    "lda_model = LdaModel(corpus=art_facts_df[\"corpus\"], id2word=dictionary, num_topics=5, passes=15)\n"
   ]
  },
  {
   "cell_type": "code",
   "execution_count": null,
   "metadata": {},
   "outputs": [],
   "source": [
    "lda_model.num_topics"
   ]
  },
  {
   "cell_type": "code",
   "execution_count": null,
   "metadata": {},
   "outputs": [],
   "source": [
    "import numpy as np\n",
    "\n",
    "def sparse_to_dense(sparse):\n",
    "    dense = np.zeros(lda_model.num_topics)\n",
    "    for (topic, prob) in sparse:\n",
    "        dense[topic] = prob\n",
    "    return dense\n",
    "\n",
    "art_facts_df[\"lda_vector\"] = [lda_model[doc] for doc in art_facts_df[\"corpus\"]]\n",
    "art_facts_df[\"lda_vector_dense\"] = art_facts_df[\"lda_vector\"].apply(sparse_to_dense)"
   ]
  },
  {
   "cell_type": "code",
   "execution_count": null,
   "metadata": {},
   "outputs": [],
   "source": [
    "art_facts_df.head()"
   ]
  },
  {
   "cell_type": "code",
   "execution_count": null,
   "metadata": {},
   "outputs": [],
   "source": [
    "topics = lda_model.print_topics(num_words=5)\n",
    "for topic in topics:\n",
    "    print(topic)\n"
   ]
  },
  {
   "cell_type": "code",
   "execution_count": null,
   "metadata": {},
   "outputs": [],
   "source": [
    "new_facts = [\n",
    "    \"Yayoi Kusama, known for her polka dots, has been a major figure in the avant-garde movement since the 1960s.\",\n",
    "    \"Banksy, an anonymous England-based street artist, is renowned for his politically themed and satirical street art.\",\n",
    "    \"Zaha Hadid, known as the 'Queen of the Curve,' was the first woman to receive the Pritzker Architecture Prize in 2004.\",\n",
    "    \"Jean-Michel Basquiat went from being homeless to selling a painting for over $100 million, highlighting his meteoric rise in the art world.\",\n",
    "    \"The Louvre Museum, originally a royal palace, holds over 380,000 objects and displays 35,000 works of art, including the Mona Lisa.\",\n",
    "]\n",
    "\n",
    "new_facts_df = pd.DataFrame(new_facts, columns=[\"fact\"])\n",
    "new_facts_df[\"preprocessed\"] = new_facts_df['fact'].apply(preprocess)\n",
    "new_facts_df[\"corpus\"] = [dictionary.doc2bow(doc) for doc in new_facts_df.preprocessed.values]\n",
    "new_facts_df[\"lda_vector\"] = [lda_model[doc] for doc in new_facts_df[\"corpus\"]]\n",
    "new_facts_df[\"lda_vector_dense\"] = new_facts_df[\"lda_vector\"].apply(sparse_to_dense)\n",
    "new_facts_df"
   ]
  },
  {
   "cell_type": "code",
   "execution_count": null,
   "metadata": {},
   "outputs": [],
   "source": [
    "art_facts_df[\"dataset\"] = \"training\"\n",
    "new_facts_df[\"dataset\"] = \"new\"\n",
    "final_art_facts_df = pd.concat([art_facts_df, new_facts_df]).reset_index(drop=True)\n",
    "final_art_facts_df.sample(5)"
   ]
  },
  {
   "cell_type": "code",
   "execution_count": null,
   "metadata": {},
   "outputs": [],
   "source": [
    "from sklearn.metrics.pairwise import cosine_similarity\n",
    "\n",
    "final_art_facts_df[final_art_facts_df[\"dataset\"] == \"new\"]"
   ]
  },
  {
   "cell_type": "code",
   "execution_count": null,
   "metadata": {},
   "outputs": [],
   "source": [
    "fact_to_compare_index = 51\n",
    "\n",
    "def get_similar_facts(index, df):\n",
    "    # Ensure that the \"lda_vector_dense\" column is correctly formatted as a list of numpy arrays\n",
    "    dense_vectors = np.array(list(df[\"lda_vector_dense\"].apply(lambda x: np.array(x))))\n",
    "    \n",
    "    # Compute cosine similarity\n",
    "    # The dense_vectors[index] needs to be reshaped to ensure it's 2D if it's not already\n",
    "    similarities = cosine_similarity([dense_vectors[index]], dense_vectors)\n",
    "    \n",
    "    # Assign similarities back to the DataFrame\n",
    "    df[\"similarity\"] = similarities[0]\n",
    "    \n",
    "    # Return the DataFrame sorted by similarity\n",
    "    return df.sort_values(by=\"similarity\", ascending=False)\n",
    "\n",
    "\n",
    "get_similar_facts(fact_to_compare_index, final_art_facts_df)[:5]"
   ]
  },
  {
   "cell_type": "code",
   "execution_count": null,
   "metadata": {},
   "outputs": [],
   "source": [
    "fact_to_compare_index = 52\n",
    "get_similar_facts(fact_to_compare_index, final_art_facts_df)[:5]"
   ]
  },
  {
   "cell_type": "code",
   "execution_count": null,
   "metadata": {},
   "outputs": [],
   "source": []
  }
 ],
 "metadata": {
  "kernelspec": {
   "display_name": "pjs",
   "language": "python",
   "name": "python3"
  },
  "language_info": {
   "codemirror_mode": {
    "name": "ipython",
    "version": 3
   },
   "file_extension": ".py",
   "mimetype": "text/x-python",
   "name": "python",
   "nbconvert_exporter": "python",
   "pygments_lexer": "ipython3",
   "version": "3.12.1"
  }
 },
 "nbformat": 4,
 "nbformat_minor": 2
}
