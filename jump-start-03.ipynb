{
 "cells": [
  {
   "cell_type": "code",
   "execution_count": null,
   "metadata": {},
   "outputs": [],
   "source": [
    "!pip install openai requests --quiet"
   ]
  },
  {
   "cell_type": "code",
   "execution_count": null,
   "metadata": {},
   "outputs": [],
   "source": [
    "import os\n",
    "import openai\n",
    "\n",
    "openai.api_key = os.environ.get(\"OPENAI_API_KEY\")\n"
   ]
  },
  {
   "cell_type": "code",
   "execution_count": null,
   "metadata": {},
   "outputs": [],
   "source": [
    "import pandas as pd\n",
    "\n",
    "art_facts_df = pd.read_csv(\"data/art-facts.csv\", sep=\"|\", header=None, names=[\"fact\"])\n",
    "art_facts_df.head()"
   ]
  },
  {
   "cell_type": "code",
   "execution_count": null,
   "metadata": {},
   "outputs": [],
   "source": [
    "new_facts = [\n",
    "    \"Yayoi Kusama, known for her polka dots, has been a major figure in the avant-garde movement since the 1960s.\",\n",
    "    \"Banksy, an anonymous England-based street artist, is renowned for his politically themed and satirical street art.\",\n",
    "    \"Zaha Hadid, known as the 'Queen of the Curve,' was the first woman to receive the Pritzker Architecture Prize in 2004.\",\n",
    "    \"Jean-Michel Basquiat went from being homeless to selling a painting for over $100 million, highlighting his meteoric rise in the art world.\",\n",
    "    \"The Louvre Museum, originally a royal palace, holds over 380,000 objects and displays 35,000 works of art, including the Mona Lisa.\",\n",
    "]"
   ]
  },
  {
   "cell_type": "code",
   "execution_count": null,
   "metadata": {},
   "outputs": [],
   "source": [
    "from openai import OpenAI\n",
    "client = OpenAI()\n",
    "\n",
    "def get_embedding(text, model=\"text-embedding-3-small\"):\n",
    "   text = text.replace(\"\\n\", \" \")\n",
    "   return client.embeddings.create(input = [text], model=model).data[0].embedding\n",
    "\n",
    "art_facts_df['ada_embedding'] = art_facts_df.fact.apply(lambda x: get_embedding(x, model='text-embedding-3-small'))"
   ]
  },
  {
   "cell_type": "code",
   "execution_count": null,
   "metadata": {},
   "outputs": [],
   "source": [
    "new_facts_df = pd.DataFrame(new_facts, columns=[\"fact\"])\n",
    "new_facts_df['ada_embedding'] = new_facts_df.fact.apply(lambda x: get_embedding(x, model='text-embedding-3-small'))\n"
   ]
  },
  {
   "cell_type": "code",
   "execution_count": null,
   "metadata": {},
   "outputs": [],
   "source": [
    "art_facts_df[\"dataset\"] = \"training\"\n",
    "new_facts_df[\"dataset\"] = \"new\"\n",
    "final_art_facts_df = pd.concat([art_facts_df, new_facts_df]).reset_index(drop=True)"
   ]
  },
  {
   "cell_type": "code",
   "execution_count": null,
   "metadata": {},
   "outputs": [],
   "source": [
    "import numpy as np\n",
    "from sklearn.metrics.pairwise import cosine_similarity\n",
    "fact_to_compare_index = 51\n",
    "\n",
    "def get_similar_facts(index, df):\n",
    "    # Ensure that the \"lda_vector_dense\" column is correctly formatted as a list of numpy arrays\n",
    "    dense_vectors = np.array(list(df[\"ada_embedding\"].apply(lambda x: np.array(x))))\n",
    "    \n",
    "    # Compute cosine similarity\n",
    "    # The dense_vectors[index] needs to be reshaped to ensure it's 2D if it's not already\n",
    "    similarities = cosine_similarity([dense_vectors[index]], dense_vectors)\n",
    "    \n",
    "    # Assign similarities back to the DataFrame\n",
    "    df[\"similarity\"] = similarities[0]\n",
    "    \n",
    "    # Return the DataFrame sorted by similarity\n",
    "    return df.sort_values(by=\"similarity\", ascending=False)\n",
    "\n",
    "\n",
    "get_similar_facts(fact_to_compare_index, final_art_facts_df)[:5]"
   ]
  },
  {
   "cell_type": "code",
   "execution_count": null,
   "metadata": {},
   "outputs": [],
   "source": [
    "baseball_facts_df = pd.read_csv(\"data/baseball-facts-01.csv\", sep=\"|\", header=None, names=[\"fact\"])\n",
    "jazz_facts_df = pd.read_csv(\"data/jazz-facts-01.csv\", sep=\"|\", header=None, names=[\"fact\"])\n",
    "baseball_facts_df[\"dataset\"] = \"baseball\"\n",
    "jazz_facts_df[\"dataset\"] = \"jazz\""
   ]
  },
  {
   "cell_type": "code",
   "execution_count": null,
   "metadata": {},
   "outputs": [],
   "source": [
    "full_df = pd.concat([art_facts_df, baseball_facts_df, jazz_facts_df]).reset_index(drop=True)\n",
    "full_df[\"ada_embedding\"] = full_df.fact.apply(lambda x: get_embedding(x, model='text-embedding-3-small'))"
   ]
  },
  {
   "cell_type": "code",
   "execution_count": null,
   "metadata": {},
   "outputs": [],
   "source": [
    "full_df.sample(5)"
   ]
  },
  {
   "cell_type": "code",
   "execution_count": null,
   "metadata": {},
   "outputs": [],
   "source": [
    "new_baseball_facts = pd.read_csv(\"data/baseball-facts-02.csv\", sep=\"|\", header=None, names=[\"fact\"])\n",
    "new_baseball_facts[\"dataset\"] = \"new baseball\"\n",
    "new_jazz_facts = pd.read_csv(\"data/jazz-facts-02.csv\", sep=\"|\", header=None, names=[\"fact\"])\n",
    "new_jazz_facts[\"dataset\"] = \"new jazz\"\n",
    "new_facts_df = pd.concat([new_baseball_facts, new_jazz_facts]).reset_index(drop=True)\n",
    "new_facts_df['ada_embedding'] = new_facts_df.fact.apply(lambda x: get_embedding(x, model='text-embedding-3-small'))\n"
   ]
  },
  {
   "cell_type": "code",
   "execution_count": null,
   "metadata": {},
   "outputs": [],
   "source": [
    "combined_df = pd.concat([full_df, new_facts_df]).reset_index(drop=True)"
   ]
  },
  {
   "cell_type": "code",
   "execution_count": null,
   "metadata": {},
   "outputs": [],
   "source": [
    "combined_df.sample(5)"
   ]
  },
  {
   "cell_type": "code",
   "execution_count": null,
   "metadata": {},
   "outputs": [],
   "source": [
    "combined_df.dataset.value_counts()"
   ]
  },
  {
   "cell_type": "code",
   "execution_count": null,
   "metadata": {},
   "outputs": [],
   "source": [
    "combined_df[combined_df[\"dataset\"].str.contains(\"new\")]"
   ]
  },
  {
   "cell_type": "code",
   "execution_count": null,
   "metadata": {},
   "outputs": [],
   "source": [
    "new_index = 61\n",
    "get_similar_facts(new_index, combined_df)[:5]"
   ]
  },
  {
   "cell_type": "code",
   "execution_count": null,
   "metadata": {},
   "outputs": [],
   "source": [
    "new_index = 67\n",
    "get_similar_facts(new_index, combined_df)[:5]"
   ]
  },
  {
   "cell_type": "code",
   "execution_count": null,
   "metadata": {},
   "outputs": [],
   "source": []
  }
 ],
 "metadata": {
  "kernelspec": {
   "display_name": "pjs",
   "language": "python",
   "name": "python3"
  },
  "language_info": {
   "codemirror_mode": {
    "name": "ipython",
    "version": 3
   },
   "file_extension": ".py",
   "mimetype": "text/x-python",
   "name": "python",
   "nbconvert_exporter": "python",
   "pygments_lexer": "ipython3",
   "version": "3.12.1"
  }
 },
 "nbformat": 4,
 "nbformat_minor": 2
}
